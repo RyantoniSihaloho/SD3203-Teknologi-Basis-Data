{
  "cells": [
    {
      "cell_type": "markdown",
      "metadata": {
        "id": "KNpA8hXpP8xi"
      },
      "source": [
        "## Kumpulan Data Untuk di Proses"
      ]
    },
    {
      "cell_type": "code",
      "execution_count": 41,
      "metadata": {
        "id": "84JeD6FmP8xk",
        "outputId": "f40c7da7-4fa3-4065-972b-bd46e9720080"
      },
      "outputs": [
        {
          "name": "stdout",
          "output_type": "stream",
          "text": [
            "Loaded CIFAR-10 training set:\n",
            " - np.shape(images)     (50000, 32, 32, 3)\n",
            " - np.shape(labels)     (50000,)\n"
          ]
        }
      ],
      "source": [
        "import numpy as np\n",
        "import pickle\n",
        "from pathlib import Path\n",
        "\n",
        "# Path to the unzipped CIFAR data\n",
        "data_dir = Path(\"D:/Semester 6/tbd/cifar-10-python/cifar-10-batches-py\")\n",
        "\n",
        "# Unpickle function provided by the CIFAR hosts\n",
        "def unpickle(file):\n",
        "    with open(file, \"rb\") as fo:\n",
        "        dict = pickle.load(fo, encoding=\"bytes\")\n",
        "    return dict\n",
        "\n",
        "images, labels = [], []\n",
        "for batch in data_dir.glob(\"data_batch_*\"):\n",
        "    batch_data = unpickle(batch)\n",
        "    for i, flat_im in enumerate(batch_data[b\"data\"]):\n",
        "        im_channels = []\n",
        "        # Each image is flattened, with channels in order of R, G, B\n",
        "        for j in range(3):\n",
        "            im_channels.append(\n",
        "                flat_im[j * 1024 : (j + 1) * 1024].reshape((32, 32))\n",
        "            )\n",
        "        # Reconstruct the original image\n",
        "        images.append(np.dstack((im_channels)))\n",
        "        # Save the label\n",
        "        labels.append(batch_data[b\"labels\"][i])\n",
        "\n",
        "print(\"Loaded CIFAR-10 training set:\")\n",
        "print(f\" - np.shape(images)     {np.shape(images)}\")\n",
        "print(f\" - np.shape(labels)     {np.shape(labels)}\")"
      ]
    },
    {
      "cell_type": "markdown",
      "metadata": {
        "id": "HRblXV_HP8xl"
      },
      "source": [
        "Jumlah Data: Dataset ini terdiri dari 50.000 gambar, yang merupakan jumlah standar dari dataset CIFAR-10.\n",
        "\n",
        "Ukuran Gambar: Gambar-gambar dalam dataset ini memiliki resolusi 32x32 piksel, yang merupakan ukuran standar untuk dataset CIFAR-10.\n",
        "\n",
        "Channel Warna: Setiap gambar memiliki 3 channel warna: Merah (R), Hijau (G), dan Biru (B). Ini menunjukkan bahwa gambar-gambar dalam dataset ini berwarna (RGB), yang sesuai dengan dataset CIFAR-10.\n",
        "\n",
        "Label: Setiap gambar memiliki label yang sesuai, yang masing-masing direpresentasikan oleh angka dalam array labels. Label ini mengidentifikasi kategori dari gambar tersebut (misalnya, mobil, pesawat, kucing, dsb.), tetapi informasi spesifik mengenai label-label tersebut tidak disertakan dalam output yang diberikan.\n",
        "\n",
        "Secara keseluruhan, output ini mengkonfirmasi bahwa proses pemrosesan data telah berhasil dan dataset CIFAR-10 telah dimuat dengan benar, siap untuk digunakan dalam pelatihan atau analisis lebih lanjut."
      ]
    },
    {
      "cell_type": "code",
      "execution_count": 42,
      "metadata": {},
      "outputs": [
        {
          "name": "stdout",
          "output_type": "stream",
          "text": [
            "Requirement already satisfied: Pillow in c:\\users\\my asus\\appdata\\local\\programs\\python\\python310\\lib\\site-packages (9.2.0)\n",
            "Note: you may need to restart the kernel to use updated packages.\n"
          ]
        },
        {
          "name": "stderr",
          "output_type": "stream",
          "text": [
            "\n",
            "[notice] A new release of pip available: 22.2.2 -> 24.0\n",
            "[notice] To update, run: python.exe -m pip install --upgrade pip\n"
          ]
        }
      ],
      "source": [
        "pip install Pillow"
      ]
    },
    {
      "cell_type": "code",
      "execution_count": 43,
      "metadata": {},
      "outputs": [
        {
          "name": "stdout",
          "output_type": "stream",
          "text": [
            "Requirement already satisfied: lmdb in c:\\users\\my asus\\appdata\\local\\programs\\python\\python310\\lib\\site-packages (1.4.1)\n",
            "Note: you may need to restart the kernel to use updated packages.\n"
          ]
        },
        {
          "name": "stderr",
          "output_type": "stream",
          "text": [
            "\n",
            "[notice] A new release of pip available: 22.2.2 -> 24.0\n",
            "[notice] To update, run: python.exe -m pip install --upgrade pip\n"
          ]
        }
      ],
      "source": [
        "pip install lmdb"
      ]
    },
    {
      "cell_type": "code",
      "execution_count": 44,
      "metadata": {},
      "outputs": [
        {
          "name": "stdout",
          "output_type": "stream",
          "text": [
            "Requirement already satisfied: h5py in c:\\users\\my asus\\appdata\\local\\programs\\python\\python310\\lib\\site-packages (3.11.0)\n",
            "Requirement already satisfied: numpy>=1.17.3 in c:\\users\\my asus\\appdata\\local\\programs\\python\\python310\\lib\\site-packages (from h5py) (1.23.3)\n",
            "Note: you may need to restart the kernel to use updated packages.\n"
          ]
        },
        {
          "name": "stderr",
          "output_type": "stream",
          "text": [
            "\n",
            "[notice] A new release of pip available: 22.2.2 -> 24.0\n",
            "[notice] To update, run: python.exe -m pip install --upgrade pip\n"
          ]
        }
      ],
      "source": [
        "pip install h5py"
      ]
    },
    {
      "cell_type": "code",
      "execution_count": 45,
      "metadata": {
        "id": "HXn2jWSdP8xm"
      },
      "outputs": [],
      "source": [
        "from pathlib import Path\n",
        "\n",
        "disk_dir = Path(\"data/disk/\")\n",
        "lmdb_dir = Path(\"data/lmdb/\")\n",
        "hdf5_dir = Path(\"data/hdf5/\")"
      ]
    },
    {
      "cell_type": "code",
      "execution_count": 46,
      "metadata": {
        "id": "vXXZAUr7P8xm"
      },
      "outputs": [],
      "source": [
        "disk_dir.mkdir(parents=True, exist_ok=True)\n",
        "lmdb_dir.mkdir(parents=True, exist_ok=True)\n",
        "hdf5_dir.mkdir(parents=True, exist_ok=True)"
      ]
    },
    {
      "cell_type": "code",
      "execution_count": 47,
      "metadata": {
        "id": "BGIldd8SP8xm"
      },
      "outputs": [],
      "source": [
        "from PIL import Image\n",
        "import csv\n",
        "\n",
        "def store_single_disk(image, image_id, label):\n",
        "    \"\"\" Stores a single image as a .png file on disk.\n",
        "        Parameters:\n",
        "        ---------------\n",
        "        image       image array, (32, 32, 3) to be stored\n",
        "        image_id    integer unique ID for image\n",
        "        label       image label\n",
        "    \"\"\"\n",
        "    Image.fromarray(image).save(disk_dir / f\"{image_id}.png\")\n",
        "\n",
        "    with open(disk_dir / f\"{image_id}.csv\", \"wt\") as csvfile:\n",
        "        writer = csv.writer(\n",
        "            csvfile, delimiter=\" \", quotechar=\"|\", quoting=csv.QUOTE_MINIMAL\n",
        "        )\n",
        "        writer.writerow([label])"
      ]
    },
    {
      "cell_type": "code",
      "execution_count": 48,
      "metadata": {
        "id": "sFV6L0tQP8xm"
      },
      "outputs": [],
      "source": [
        "class CIFAR_Image:\n",
        "    def __init__(self, image, label):\n",
        "        # Dimensions of image for reconstruction - not really necessary\n",
        "        # for this dataset, but some datasets may include images of\n",
        "        # varying sizes\n",
        "        self.channels = image.shape[2]\n",
        "        self.size = image.shape[:2]\n",
        "\n",
        "        self.image = image.tobytes()\n",
        "        self.label = label\n",
        "\n",
        "    def get_image(self):\n",
        "        \"\"\" Returns the image as a numpy array. \"\"\"\n",
        "        image = np.frombuffer(self.image, dtype=np.uint8)\n",
        "        return image.reshape(*self.size, self.channels)"
      ]
    },
    {
      "cell_type": "code",
      "execution_count": 50,
      "metadata": {
        "id": "mu7Dgw_wP8xm"
      },
      "outputs": [],
      "source": [
        "import lmdb\n",
        "import pickle\n",
        "\n",
        "def store_single_lmdb(image, image_id, label):\n",
        "    \"\"\" Stores a single image to a LMDB.\n",
        "        Parameters:\n",
        "        ---------------\n",
        "        image       image array, (32, 32, 3) to be stored\n",
        "        image_id    integer unique ID for image\n",
        "        label       image label\n",
        "    \"\"\"\n",
        "    map_size = image.nbytes * 10\n",
        "\n",
        "    # Create a new LMDB environment\n",
        "    env = lmdb.open(str(lmdb_dir / f\"single_lmdb\"), map_size=map_size)\n",
        "\n",
        "    # Start a new write transaction\n",
        "    with env.begin(write=True) as txn:\n",
        "        # All key-value pairs need to be strings\n",
        "        value = CIFAR_Image(image, label)\n",
        "        key = f\"{image_id:08}\"\n",
        "        txn.put(key.encode(\"ascii\"), pickle.dumps(value))\n",
        "    env.close()"
      ]
    },
    {
      "cell_type": "code",
      "execution_count": 51,
      "metadata": {
        "id": "1kE27UaBP8xm"
      },
      "outputs": [],
      "source": [
        "import h5py\n",
        "\n",
        "def store_single_hdf5(image, image_id, label):\n",
        "    \"\"\" Stores a single image to an HDF5 file.\n",
        "        Parameters:\n",
        "        ---------------\n",
        "        image       image array, (32, 32, 3) to be stored\n",
        "        image_id    integer unique ID for image\n",
        "        label       image label\n",
        "    \"\"\"\n",
        "    # Create a new HDF5 file\n",
        "    file = h5py.File(hdf5_dir / f\"{image_id}.h5\", \"w\")\n",
        "\n",
        "    # Create a dataset in the file\n",
        "    dataset = file.create_dataset(\n",
        "        \"image\", np.shape(image), h5py.h5t.STD_U8BE, data=image\n",
        "    )\n",
        "    meta_set = file.create_dataset(\n",
        "        \"meta\", np.shape(label), h5py.h5t.STD_U8BE, data=label\n",
        "    )\n",
        "    file.close()"
      ]
    },
    {
      "cell_type": "code",
      "execution_count": 52,
      "metadata": {
        "id": "-F2k-TOVP8xn"
      },
      "outputs": [],
      "source": [
        "_store_single_funcs = dict(\n",
        "    disk=store_single_disk, lmdb=store_single_lmdb, hdf5=store_single_hdf5\n",
        ")"
      ]
    },
    {
      "cell_type": "code",
      "execution_count": 53,
      "metadata": {
        "id": "r9sF_GkwP8xn",
        "outputId": "0518ad3b-295a-4035-8091-2d9c1893e0c0"
      },
      "outputs": [
        {
          "name": "stdout",
          "output_type": "stream",
          "text": [
            "Method: disk, Time usage: 0.042800100054591894\n",
            "Method: lmdb, Time usage: 0.0029751998372375965\n",
            "Method: hdf5, Time usage: 0.0036964998580515385\n"
          ]
        }
      ],
      "source": [
        "from timeit import timeit\n",
        "\n",
        "store_single_timings = dict()\n",
        "\n",
        "for method in (\"disk\", \"lmdb\", \"hdf5\"):\n",
        "    t = timeit(\n",
        "        \"_store_single_funcs[method](image, 0, label)\",\n",
        "        setup=\"image=images[0]; label=labels[0]\",\n",
        "        number=1,\n",
        "        globals=globals(),\n",
        "    )\n",
        "    store_single_timings[method] = t\n",
        "    print(f\"Method: {method}, Time usage: {t}\")"
      ]
    },
    {
      "cell_type": "markdown",
      "metadata": {},
      "source": [
        "Dari hasil pengukuran waktu, metode \"disk\" menunjukkan kinerja yang paling lambat, sementara \"lmdb\" dan \"hdf5\" menunjukkan kinerja yang jauh lebih cepat. \"lmdb\" memiliki waktu penggunaan yang paling cepat di antara ketiganya, diikuti oleh \"hdf5\", dan terakhir adalah \"disk\". Ini menunjukkan bahwa untuk aplikasi yang memerlukan penyimpanan dan pengambilan data yang cepat, metode \"lmdb\" mungkin merupakan pilihan yang lebih baik dibandingkan dengan metode \"disk\" atau \"hdf5\"."
      ]
    },
    {
      "cell_type": "code",
      "execution_count": 54,
      "metadata": {
        "id": "fWN9b2vBP8xn"
      },
      "outputs": [],
      "source": [
        "def store_many_disk(images, labels):\n",
        "    \"\"\" Stores an array of images to disk\n",
        "        Parameters:\n",
        "        ---------------\n",
        "        images       images array, (N, 32, 32, 3) to be stored\n",
        "        labels       labels array, (N, 1) to be stored\n",
        "    \"\"\"\n",
        "    num_images = len(images)\n",
        "\n",
        "    # Save all the images one by one\n",
        "    for i, image in enumerate(images):\n",
        "        Image.fromarray(image).save(disk_dir / f\"{i}.png\")\n",
        "\n",
        "    # Save all the labels to the csv file\n",
        "    with open(disk_dir / f\"{num_images}.csv\", \"w\") as csvfile:\n",
        "        writer = csv.writer(\n",
        "            csvfile, delimiter=\" \", quotechar=\"|\", quoting=csv.QUOTE_MINIMAL\n",
        "        )\n",
        "        for label in labels:\n",
        "            # This typically would be more than just one value per row\n",
        "            writer.writerow([label])\n",
        "\n",
        "def store_many_lmdb(images, labels):\n",
        "    \"\"\" Stores an array of images to LMDB.\n",
        "        Parameters:\n",
        "        ---------------\n",
        "        images       images array, (N, 32, 32, 3) to be stored\n",
        "        labels       labels array, (N, 1) to be stored\n",
        "    \"\"\"\n",
        "    num_images = len(images)\n",
        "\n",
        "    map_size = num_images * images[0].nbytes * 10\n",
        "\n",
        "    # Create a new LMDB DB for all the images\n",
        "    env = lmdb.open(str(lmdb_dir / f\"{num_images}_lmdb\"), map_size=map_size)\n",
        "\n",
        "    # Same as before — but let's write all the images in a single transaction\n",
        "    with env.begin(write=True) as txn:\n",
        "        for i in range(num_images):\n",
        "            # All key-value pairs need to be Strings\n",
        "            value = CIFAR_Image(images[i], labels[i])\n",
        "            key = f\"{i:08}\"\n",
        "            txn.put(key.encode(\"ascii\"), pickle.dumps(value))\n",
        "    env.close()\n",
        "\n",
        "def store_many_hdf5(images, labels):\n",
        "    \"\"\" Stores an array of images to HDF5.\n",
        "        Parameters:\n",
        "        ---------------\n",
        "        images       images array, (N, 32, 32, 3) to be stored\n",
        "        labels       labels array, (N, 1) to be stored\n",
        "    \"\"\"\n",
        "    num_images = len(images)\n",
        "\n",
        "    # Create a new HDF5 file\n",
        "    file = h5py.File(hdf5_dir / f\"{num_images}_many.h5\", \"w\")\n",
        "\n",
        "    # Create a dataset in the file\n",
        "    dataset = file.create_dataset(\n",
        "        \"images\", np.shape(images), h5py.h5t.STD_U8BE, data=images\n",
        "    )\n",
        "    meta_set = file.create_dataset(\n",
        "        \"meta\", np.shape(labels), h5py.h5t.STD_U8BE, data=labels\n",
        "    )\n",
        "    file.close()"
      ]
    },
    {
      "cell_type": "code",
      "execution_count": 55,
      "metadata": {
        "id": "xb-PWeK2P8xo",
        "outputId": "ed498ef8-3bfc-4986-8244-68e8fe826a0d"
      },
      "outputs": [
        {
          "name": "stdout",
          "output_type": "stream",
          "text": [
            "(100000, 32, 32, 3)\n",
            "(100000,)\n"
          ]
        }
      ],
      "source": [
        "cutoffs = [10, 100, 1000, 10000, 100000]\n",
        "\n",
        "# Let's double our images so that we have 100,000\n",
        "images = np.concatenate((images, images), axis=0)\n",
        "labels = np.concatenate((labels, labels), axis=0)\n",
        "\n",
        "# Make sure you actually have 100,000 images and labels\n",
        "print(np.shape(images))\n",
        "print(np.shape(labels))"
      ]
    },
    {
      "cell_type": "markdown",
      "metadata": {},
      "source": [
        "Dataset CIFAR-10 awal yang terdiri dari 50.000 gambar dan label sekarang telah berhasil digandakan menjadi 100.000 gambar dan label. Proses penggandaan ini dapat bermanfaat untuk pelatihan model yang lebih baik dengan dataset yang lebih besar atau untuk tujuan validasi dan pengujian yang lebih lengkap. Namun, perlu diingat bahwa proses ini juga memerlukan lebih banyak memori dan sumber daya komputasi."
      ]
    },
    {
      "cell_type": "code",
      "execution_count": 56,
      "metadata": {
        "id": "6gOe2e28P8xo",
        "outputId": "d8fd0da2-1be8-4445-cb34-95997c677793"
      },
      "outputs": [
        {
          "name": "stdout",
          "output_type": "stream",
          "text": [
            "Method: disk, Time usage: 0.008389799855649471\n",
            "Method: lmdb, Time usage: 0.0024121003225445747\n",
            "Method: hdf5, Time usage: 0.0021763998083770275\n",
            "Method: disk, Time usage: 0.07786960015073419\n",
            "Method: lmdb, Time usage: 0.004879499785602093\n",
            "Method: hdf5, Time usage: 0.0013009998947381973\n",
            "Method: disk, Time usage: 0.4985676002688706\n",
            "Method: lmdb, Time usage: 0.027817599941045046\n",
            "Method: hdf5, Time usage: 0.0023207999765872955\n",
            "Method: disk, Time usage: 5.424268499948084\n",
            "Method: lmdb, Time usage: 0.26781760016456246\n",
            "Method: hdf5, Time usage: 0.024119599722325802\n",
            "Method: disk, Time usage: 46.76216259971261\n",
            "Method: lmdb, Time usage: 3.5520147001370788\n",
            "Method: hdf5, Time usage: 4.968029799871147\n"
          ]
        }
      ],
      "source": [
        "_store_many_funcs = dict(\n",
        "    disk=store_many_disk, lmdb=store_many_lmdb, hdf5=store_many_hdf5\n",
        ")\n",
        "\n",
        "from timeit import timeit\n",
        "\n",
        "store_many_timings = {\"disk\": [], \"lmdb\": [], \"hdf5\": []}\n",
        "\n",
        "for cutoff in cutoffs:\n",
        "    for method in (\"disk\", \"lmdb\", \"hdf5\"):\n",
        "        t = timeit(\n",
        "            \"_store_many_funcs[method](images_, labels_)\",\n",
        "            setup=\"images_=images[:cutoff]; labels_=labels[:cutoff]\",\n",
        "            number=1,\n",
        "            globals=globals(),\n",
        "        )\n",
        "        store_many_timings[method].append(t)\n",
        "\n",
        "        # Print out the method, cutoff, and elapsed time\n",
        "        print(f\"Method: {method}, Time usage: {t}\")"
      ]
    },
    {
      "cell_type": "markdown",
      "metadata": {},
      "source": [
        "Berdasarkan hasil pengukuran waktu, metode \"disk\" cenderung memiliki kinerja yang lebih lambat dibandingkan dengan \"lmdb\" dan \"hdf5\", terutama saat menghadapi dataset yang lebih besar. Sementara itu, \"lmdb\" dan \"hdf5\" menunjukkan kinerja yang lebih cepat dan konsisten, dengan \"lmdb\" memiliki kinerja yang sedikit lebih baik dibandingkan \"hdf5\" dalam skenario ini. Oleh karena itu, untuk aplikasi yang memerlukan penyimpanan dan pengambilan data yang cepat, \"lmdb\" mungkin merupakan pilihan yang lebih baik dibandingkan dengan \"disk\" atau \"hdf5\"."
      ]
    },
    {
      "cell_type": "code",
      "execution_count": 57,
      "metadata": {
        "id": "ataAP807P8xo",
        "outputId": "9a6d335c-f53f-4aca-e68a-b784cbe00538"
      },
      "outputs": [
        {
          "name": "stderr",
          "output_type": "stream",
          "text": [
            "C:\\Users\\MY ASUS\\AppData\\Local\\Temp\\ipykernel_23820\\2568719458.py:15: MatplotlibDeprecationWarning: The seaborn styles shipped by Matplotlib are deprecated since 3.6, as they no longer correspond to the styles shipped by seaborn. However, they will remain available as 'seaborn-v0_8-<style>'. Alternatively, directly use the seaborn API instead.\n",
            "  plt.style.use(\"seaborn-whitegrid\")\n"
          ]
        },
        {
          "data": {
            "image/png": "[encoded data removed]",
            "text/plain": [
              "<Figure size 1000x700 with 1 Axes>"
            ]
          },
          "metadata": {},
          "output_type": "display_data"
        },
        {
          "name": "stderr",
          "output_type": "stream",
          "text": [
            "C:\\Users\\MY ASUS\\AppData\\Local\\Temp\\ipykernel_23820\\2568719458.py:15: MatplotlibDeprecationWarning: The seaborn styles shipped by Matplotlib are deprecated since 3.6, as they no longer correspond to the styles shipped by seaborn. However, they will remain available as 'seaborn-v0_8-<style>'. Alternatively, directly use the seaborn API instead.\n",
            "  plt.style.use(\"seaborn-whitegrid\")\n"
          ]
        },
        {
          "data": {
            "image/png": "[encoded data removed]",
            "text/plain": [
              "<Figure size 1000x700 with 1 Axes>"
            ]
          },
          "metadata": {},
          "output_type": "display_data"
        }
      ],
      "source": [
        "import matplotlib.pyplot as plt\n",
        "\n",
        "def plot_with_legend(\n",
        "    x_range, y_data, legend_labels, x_label, y_label, title, log=False\n",
        "):\n",
        "    \"\"\" Displays a single plot with multiple datasets and matching legends.\n",
        "        Parameters:\n",
        "        --------------\n",
        "        x_range         list of lists containing x data\n",
        "        y_data          list of lists containing y values\n",
        "        legend_labels   list of string legend labels\n",
        "        x_label         x axis label\n",
        "        y_label         y axis label\n",
        "    \"\"\"\n",
        "    plt.style.use(\"seaborn-whitegrid\")\n",
        "    plt.figure(figsize=(10, 7))\n",
        "\n",
        "    if len(y_data) != len(legend_labels):\n",
        "        raise TypeError(\n",
        "            \"Error: number of data sets does not match number of labels.\"\n",
        "        )\n",
        "\n",
        "    all_plots = []\n",
        "    for data, label in zip(y_data, legend_labels):\n",
        "        if log:\n",
        "            temp, = plt.loglog(x_range, data, label=label)\n",
        "        else:\n",
        "            temp, = plt.plot(x_range, data, label=label)\n",
        "        all_plots.append(temp)\n",
        "\n",
        "    plt.title(title)\n",
        "    plt.xlabel(x_label)\n",
        "    plt.ylabel(y_label)\n",
        "    plt.legend(handles=all_plots)\n",
        "    plt.show()\n",
        "\n",
        "# Getting the store timings data to display\n",
        "disk_x = store_many_timings[\"disk\"]\n",
        "lmdb_x = store_many_timings[\"lmdb\"]\n",
        "hdf5_x = store_many_timings[\"hdf5\"]\n",
        "\n",
        "plot_with_legend(\n",
        "    cutoffs,\n",
        "    [disk_x, lmdb_x, hdf5_x],\n",
        "    [\"PNG files\", \"LMDB\", \"HDF5\"],\n",
        "    \"Number of images\",\n",
        "    \"Seconds to store\",\n",
        "    \"Storage time\",\n",
        "    log=False,\n",
        ")\n",
        "\n",
        "plot_with_legend(\n",
        "    cutoffs,\n",
        "    [disk_x, lmdb_x, hdf5_x],\n",
        "    [\"PNG files\", \"LMDB\", \"HDF5\"],\n",
        "    \"Number of images\",\n",
        "    \"Seconds to store\",\n",
        "    \"Log storage time\",\n",
        "    log=True,\n",
        ")"
      ]
    },
    {
      "cell_type": "markdown",
      "metadata": {},
      "source": [
        "Sumbu X mewakili jumlah gambar, sedangkan sumbu Y mewakili waktu dalam detik yang dibutuhkan untuk menyimpan gambar tersebut. Ada tiga garis dalam grafik, masing-masing mewakili metode penyimpanan yang berbeda. Garis biru mewakili file PNG, garis hijau mewakili LMDB, dan garis oranye mewakili HDF5.\n",
        "\n",
        "Dari grafik terlihat bahwa file PNG adalah metode paling lambat untuk menyimpan gambar, diikuti oleh HDF5 dan kemudian LMDB. Hal ini dikarenakan file PNG adalah format gambar yang tidak terkompresi, sedangkan LMDB dan HDF5 adalah format terkompresi."
      ]
    },
    {
      "cell_type": "code",
      "execution_count": 58,
      "metadata": {
        "id": "TgYH3c5YP8xo"
      },
      "outputs": [],
      "source": [
        "def read_single_disk(image_id):\n",
        "    \"\"\" Stores a single image to disk.\n",
        "        Parameters:\n",
        "        ---------------\n",
        "        image_id    integer unique ID for image\n",
        "\n",
        "        Returns:\n",
        "        ----------\n",
        "        image       image array, (32, 32, 3) to be stored\n",
        "        label       associated meta data, int label\n",
        "    \"\"\"\n",
        "    image = np.array(Image.open(disk_dir / f\"{image_id}.png\"))\n",
        "\n",
        "    with open(disk_dir / f\"{image_id}.csv\", \"r\") as csvfile:\n",
        "        reader = csv.reader(\n",
        "            csvfile, delimiter=\" \", quotechar=\"|\", quoting=csv.QUOTE_MINIMAL\n",
        "        )\n",
        "        label = int(next(reader)[0])\n",
        "\n",
        "    return image, label"
      ]
    },
    {
      "cell_type": "code",
      "execution_count": 59,
      "metadata": {
        "id": "vqsY4uaBP8xo"
      },
      "outputs": [],
      "source": [
        "def read_single_lmdb(image_id):\n",
        "    \"\"\" Stores a single image to LMDB.\n",
        "        Parameters:\n",
        "        ---------------\n",
        "        image_id    integer unique ID for image\n",
        "\n",
        "        Returns:\n",
        "        ----------\n",
        "        image       image array, (32, 32, 3) to be stored\n",
        "        label       associated meta data, int label\n",
        "    \"\"\"\n",
        "    # Open the LMDB environment\n",
        "    env = lmdb.open(str(lmdb_dir / f\"single_lmdb\"), readonly=True)\n",
        "\n",
        "    # Start a new read transaction\n",
        "    with env.begin() as txn:\n",
        "        # Encode the key the same way as we stored it\n",
        "        data = txn.get(f\"{image_id:08}\".encode(\"ascii\"))\n",
        "        # Remember it's a CIFAR_Image object that is loaded\n",
        "        cifar_image = pickle.loads(data)\n",
        "        # Retrieve the relevant bits\n",
        "        image = cifar_image.get_image()\n",
        "        label = cifar_image.label\n",
        "    env.close()\n",
        "\n",
        "    return image, label"
      ]
    },
    {
      "cell_type": "code",
      "execution_count": 60,
      "metadata": {
        "id": "XrqstizMP8xp"
      },
      "outputs": [],
      "source": [
        "def read_single_hdf5(image_id):\n",
        "    \"\"\" Stores a single image to HDF5.\n",
        "        Parameters:\n",
        "        ---------------\n",
        "        image_id    integer unique ID for image\n",
        "\n",
        "        Returns:\n",
        "        ----------\n",
        "        image       image array, (32, 32, 3) to be stored\n",
        "        label       associated meta data, int label\n",
        "    \"\"\"\n",
        "    # Open the HDF5 file\n",
        "    file = h5py.File(hdf5_dir / f\"{image_id}.h5\", \"r+\")\n",
        "\n",
        "    image = np.array(file[\"/image\"]).astype(\"uint8\")\n",
        "    label = int(np.array(file[\"/meta\"]).astype(\"uint8\"))\n",
        "\n",
        "    return image, label"
      ]
    },
    {
      "cell_type": "code",
      "execution_count": 61,
      "metadata": {
        "id": "r2st5fS6P8xp"
      },
      "outputs": [],
      "source": [
        "_read_single_funcs = dict(\n",
        "    disk=read_single_disk, lmdb=read_single_lmdb, hdf5=read_single_hdf5\n",
        ")"
      ]
    },
    {
      "cell_type": "code",
      "execution_count": 62,
      "metadata": {
        "id": "V87z6Y3NP8xp",
        "outputId": "5e6733d0-474a-44e7-c7a5-bd20eb13b9e3"
      },
      "outputs": [
        {
          "name": "stdout",
          "output_type": "stream",
          "text": [
            "Method: disk, Time usage: 0.013063500169664621\n",
            "Method: lmdb, Time usage: 0.019996099639683962\n",
            "Method: hdf5, Time usage: 0.010588299948722124\n"
          ]
        }
      ],
      "source": [
        "from timeit import timeit\n",
        "\n",
        "read_single_timings = dict()\n",
        "\n",
        "for method in (\"disk\", \"lmdb\", \"hdf5\"):\n",
        "    t = timeit(\n",
        "        \"_read_single_funcs[method](0)\",\n",
        "        setup=\"image=images[0]; label=labels[0]\",\n",
        "        number=1,\n",
        "        globals=globals(),\n",
        "    )\n",
        "    read_single_timings[method] = t\n",
        "    print(f\"Method: {method}, Time usage: {t}\")"
      ]
    },
    {
      "cell_type": "markdown",
      "metadata": {},
      "source": [
        "Berdasarkan hasil pengukuran waktu, metode \"disk\" menunjukkan kinerja yang paling cepat dalam operasi pembacaan data tunggal di antara ketiga metode yang diuji. Meskipun \"lmdb\" dan \"hdf5\" memiliki waktu pembacaan yang sedikit lebih lama dibandingkan dengan \"disk\", perbedaannya tidak terlalu signifikan. Oleh karena itu, untuk aplikasi yang memerlukan operasi pembacaan data yang cepat, \"disk\" mungkin merupakan pilihan yang baik. Namun, \"lmdb\" dan \"hdf5\" juga dapat menjadi pilihan yang baik tergantung pada kebutuhan spesifik aplikasi dan faktor lain seperti efisiensi penyimpanan dan manajemen data."
      ]
    },
    {
      "cell_type": "code",
      "execution_count": 63,
      "metadata": {
        "id": "cprb5bPKP8xp"
      },
      "outputs": [],
      "source": [
        "def read_many_disk(num_images):\n",
        "    \"\"\" Reads image from disk.\n",
        "        Parameters:\n",
        "        ---------------\n",
        "        num_images   number of images to read\n",
        "\n",
        "        Returns:\n",
        "        ----------\n",
        "        images      images array, (N, 32, 32, 3) to be stored\n",
        "        labels      associated meta data, int label (N, 1)\n",
        "    \"\"\"\n",
        "    images, labels = [], []\n",
        "\n",
        "    # Loop over all IDs and read each image in one by one\n",
        "    for image_id in range(num_images):\n",
        "        images.append(np.array(Image.open(disk_dir / f\"{image_id}.png\")))\n",
        "\n",
        "    with open(disk_dir / f\"{num_images}.csv\", \"r\") as csvfile:\n",
        "        reader = csv.reader(\n",
        "            csvfile, delimiter=\" \", quotechar=\"|\", quoting=csv.QUOTE_MINIMAL\n",
        "        )\n",
        "        for row in reader:\n",
        "            labels.append(int(row[0]))\n",
        "    return images, labels\n",
        "\n",
        "def read_many_lmdb(num_images):\n",
        "    \"\"\" Reads image from LMDB.\n",
        "        Parameters:\n",
        "        ---------------\n",
        "        num_images   number of images to read\n",
        "\n",
        "        Returns:\n",
        "        ----------\n",
        "        images      images array, (N, 32, 32, 3) to be stored\n",
        "        labels      associated meta data, int label (N, 1)\n",
        "    \"\"\"\n",
        "    images, labels = [], []\n",
        "    env = lmdb.open(str(lmdb_dir / f\"{num_images}_lmdb\"), readonly=True)\n",
        "\n",
        "    # Start a new read transaction\n",
        "    with env.begin() as txn:\n",
        "        # Read all images in one single transaction, with one lock\n",
        "        # We could split this up into multiple transactions if needed\n",
        "        for image_id in range(num_images):\n",
        "            data = txn.get(f\"{image_id:08}\".encode(\"ascii\"))\n",
        "            # Remember that it's a CIFAR_Image object\n",
        "            # that is stored as the value\n",
        "            cifar_image = pickle.loads(data)\n",
        "            # Retrieve the relevant bits\n",
        "            images.append(cifar_image.get_image())\n",
        "            labels.append(cifar_image.label)\n",
        "    env.close()\n",
        "    return images, labels\n",
        "\n",
        "def read_many_hdf5(num_images):\n",
        "    \"\"\" Reads image from HDF5.\n",
        "        Parameters:\n",
        "        ---------------\n",
        "        num_images   number of images to read\n",
        "\n",
        "        Returns:\n",
        "        ----------\n",
        "        images      images array, (N, 32, 32, 3) to be stored\n",
        "        labels      associated meta data, int label (N, 1)\n",
        "    \"\"\"\n",
        "    images, labels = [], []\n",
        "\n",
        "    # Open the HDF5 file\n",
        "    file = h5py.File(hdf5_dir / f\"{num_images}_many.h5\", \"r+\")\n",
        "\n",
        "    images = np.array(file[\"/images\"]).astype(\"uint8\")\n",
        "    labels = np.array(file[\"/meta\"]).astype(\"uint8\")\n",
        "\n",
        "    return images, labels\n",
        "\n",
        "_read_many_funcs = dict(\n",
        "    disk=read_many_disk, lmdb=read_many_lmdb, hdf5=read_many_hdf5\n",
        ")"
      ]
    },
    {
      "cell_type": "code",
      "execution_count": 67,
      "metadata": {
        "id": "7Td0Kj92P8xp",
        "outputId": "ea6f77a3-5460-4c67-ebe3-42b7da3eb785"
      },
      "outputs": [
        {
          "ename": "IndexError",
          "evalue": "list index out of range",
          "output_type": "error",
          "traceback": [
            "\u001b[1;31m---------------------------------------------------------------------------\u001b[0m",
            "\u001b[1;31mIndexError\u001b[0m                                Traceback (most recent call last)",
            "Cell \u001b[1;32mIn [67], line 7\u001b[0m\n\u001b[0;32m      5\u001b[0m \u001b[38;5;28;01mfor\u001b[39;00m cutoff \u001b[38;5;129;01min\u001b[39;00m cutoffs:\n\u001b[0;32m      6\u001b[0m     \u001b[38;5;28;01mfor\u001b[39;00m method \u001b[38;5;129;01min\u001b[39;00m (\u001b[38;5;124m\"\u001b[39m\u001b[38;5;124mdisk\u001b[39m\u001b[38;5;124m\"\u001b[39m, \u001b[38;5;124m\"\u001b[39m\u001b[38;5;124mlmdb\u001b[39m\u001b[38;5;124m\"\u001b[39m, \u001b[38;5;124m\"\u001b[39m\u001b[38;5;124mhdf5\u001b[39m\u001b[38;5;124m\"\u001b[39m):\n\u001b[1;32m----> 7\u001b[0m         t \u001b[38;5;241m=\u001b[39m \u001b[43mtimeit\u001b[49m\u001b[43m(\u001b[49m\n\u001b[0;32m      8\u001b[0m \u001b[43m            \u001b[49m\u001b[38;5;124;43m\"\u001b[39;49m\u001b[38;5;124;43m_read_many_funcs[method](num_images)\u001b[39;49m\u001b[38;5;124;43m\"\u001b[39;49m\u001b[43m,\u001b[49m\n\u001b[0;32m      9\u001b[0m \u001b[43m            \u001b[49m\u001b[43msetup\u001b[49m\u001b[38;5;241;43m=\u001b[39;49m\u001b[38;5;124;43m\"\u001b[39;49m\u001b[38;5;124;43mnum_images=cutoff\u001b[39;49m\u001b[38;5;124;43m\"\u001b[39;49m\u001b[43m,\u001b[49m\n\u001b[0;32m     10\u001b[0m \u001b[43m            \u001b[49m\u001b[43mnumber\u001b[49m\u001b[38;5;241;43m=\u001b[39;49m\u001b[38;5;241;43m1\u001b[39;49m\u001b[43m,\u001b[49m\n\u001b[0;32m     11\u001b[0m \u001b[43m            \u001b[49m\u001b[38;5;28;43mglobals\u001b[39;49m\u001b[38;5;241;43m=\u001b[39;49m\u001b[38;5;28;43mglobals\u001b[39;49m\u001b[43m(\u001b[49m\u001b[43m)\u001b[49m\u001b[43m,\u001b[49m\n\u001b[0;32m     12\u001b[0m \u001b[43m        \u001b[49m\u001b[43m)\u001b[49m\n\u001b[0;32m     13\u001b[0m         read_many_timings[method]\u001b[38;5;241m.\u001b[39mappend(t)\n\u001b[0;32m     15\u001b[0m         \u001b[38;5;66;03m# Print out the method, cutoff, and elapsed time\u001b[39;00m\n",
            "File \u001b[1;32mc:\\Users\\MY ASUS\\AppData\\Local\\Programs\\Python\\Python310\\lib\\timeit.py:234\u001b[0m, in \u001b[0;36mtimeit\u001b[1;34m(stmt, setup, timer, number, globals)\u001b[0m\n\u001b[0;32m    231\u001b[0m \u001b[38;5;28;01mdef\u001b[39;00m \u001b[38;5;21mtimeit\u001b[39m(stmt\u001b[38;5;241m=\u001b[39m\u001b[38;5;124m\"\u001b[39m\u001b[38;5;124mpass\u001b[39m\u001b[38;5;124m\"\u001b[39m, setup\u001b[38;5;241m=\u001b[39m\u001b[38;5;124m\"\u001b[39m\u001b[38;5;124mpass\u001b[39m\u001b[38;5;124m\"\u001b[39m, timer\u001b[38;5;241m=\u001b[39mdefault_timer,\n\u001b[0;32m    232\u001b[0m            number\u001b[38;5;241m=\u001b[39mdefault_number, \u001b[38;5;28mglobals\u001b[39m\u001b[38;5;241m=\u001b[39m\u001b[38;5;28;01mNone\u001b[39;00m):\n\u001b[0;32m    233\u001b[0m     \u001b[38;5;124;03m\"\"\"Convenience function to create Timer object and call timeit method.\"\"\"\u001b[39;00m\n\u001b[1;32m--> 234\u001b[0m     \u001b[38;5;28;01mreturn\u001b[39;00m \u001b[43mTimer\u001b[49m\u001b[43m(\u001b[49m\u001b[43mstmt\u001b[49m\u001b[43m,\u001b[49m\u001b[43m \u001b[49m\u001b[43msetup\u001b[49m\u001b[43m,\u001b[49m\u001b[43m \u001b[49m\u001b[43mtimer\u001b[49m\u001b[43m,\u001b[49m\u001b[43m \u001b[49m\u001b[38;5;28;43mglobals\u001b[39;49m\u001b[43m)\u001b[49m\u001b[38;5;241;43m.\u001b[39;49m\u001b[43mtimeit\u001b[49m\u001b[43m(\u001b[49m\u001b[43mnumber\u001b[49m\u001b[43m)\u001b[49m\n",
            "File \u001b[1;32mc:\\Users\\MY ASUS\\AppData\\Local\\Programs\\Python\\Python310\\lib\\timeit.py:178\u001b[0m, in \u001b[0;36mTimer.timeit\u001b[1;34m(self, number)\u001b[0m\n\u001b[0;32m    176\u001b[0m gc\u001b[38;5;241m.\u001b[39mdisable()\n\u001b[0;32m    177\u001b[0m \u001b[38;5;28;01mtry\u001b[39;00m:\n\u001b[1;32m--> 178\u001b[0m     timing \u001b[38;5;241m=\u001b[39m \u001b[38;5;28;43mself\u001b[39;49m\u001b[38;5;241;43m.\u001b[39;49m\u001b[43minner\u001b[49m\u001b[43m(\u001b[49m\u001b[43mit\u001b[49m\u001b[43m,\u001b[49m\u001b[43m \u001b[49m\u001b[38;5;28;43mself\u001b[39;49m\u001b[38;5;241;43m.\u001b[39;49m\u001b[43mtimer\u001b[49m\u001b[43m)\u001b[49m\n\u001b[0;32m    179\u001b[0m \u001b[38;5;28;01mfinally\u001b[39;00m:\n\u001b[0;32m    180\u001b[0m     \u001b[38;5;28;01mif\u001b[39;00m gcold:\n",
            "File \u001b[1;32m<timeit-src>:6\u001b[0m, in \u001b[0;36minner\u001b[1;34m(_it, _timer)\u001b[0m\n",
            "Cell \u001b[1;32mIn [63], line 23\u001b[0m, in \u001b[0;36mread_many_disk\u001b[1;34m(num_images)\u001b[0m\n\u001b[0;32m     19\u001b[0m     reader \u001b[38;5;241m=\u001b[39m csv\u001b[38;5;241m.\u001b[39mreader(\n\u001b[0;32m     20\u001b[0m         csvfile, delimiter\u001b[38;5;241m=\u001b[39m\u001b[38;5;124m\"\u001b[39m\u001b[38;5;124m \u001b[39m\u001b[38;5;124m\"\u001b[39m, quotechar\u001b[38;5;241m=\u001b[39m\u001b[38;5;124m\"\u001b[39m\u001b[38;5;124m|\u001b[39m\u001b[38;5;124m\"\u001b[39m, quoting\u001b[38;5;241m=\u001b[39mcsv\u001b[38;5;241m.\u001b[39mQUOTE_MINIMAL\n\u001b[0;32m     21\u001b[0m     )\n\u001b[0;32m     22\u001b[0m     \u001b[38;5;28;01mfor\u001b[39;00m row \u001b[38;5;129;01min\u001b[39;00m reader:\n\u001b[1;32m---> 23\u001b[0m         labels\u001b[38;5;241m.\u001b[39mappend(\u001b[38;5;28mint\u001b[39m(\u001b[43mrow\u001b[49m\u001b[43m[\u001b[49m\u001b[38;5;241;43m0\u001b[39;49m\u001b[43m]\u001b[49m))\n\u001b[0;32m     24\u001b[0m \u001b[38;5;28;01mreturn\u001b[39;00m images, labels\n",
            "\u001b[1;31mIndexError\u001b[0m: list index out of range"
          ]
        }
      ],
      "source": [
        "from timeit import timeit\n",
        "\n",
        "read_many_timings = {\"disk\": [], \"lmdb\": [], \"hdf5\": []}\n",
        "\n",
        "for cutoff in cutoffs:\n",
        "    for method in (\"disk\", \"lmdb\", \"hdf5\"):\n",
        "        t = timeit(\n",
        "            \"_read_many_funcs[method](num_images)\",\n",
        "            setup=\"num_images=cutoff\",\n",
        "            number=1,\n",
        "            globals=globals(),\n",
        "        )\n",
        "        read_many_timings[method].append(t)\n",
        "\n",
        "        # Print out the method, cutoff, and elapsed time\n",
        "        print(f\"Method: {method}, No. images: {cutoff}, Time usage: {t}\")"
      ]
    }
  ],
  "metadata": {
    "colab": {
      "provenance": []
    },
    "kernelspec": {
      "display_name": "Python 3",
      "name": "python3"
    },
    "language_info": {
      "codemirror_mode": {
        "name": "ipython",
        "version": 3
      },
      "file_extension": ".py",
      "mimetype": "text/x-python",
      "name": "python",
      "nbconvert_exporter": "python",
      "pygments_lexer": "ipython3",
      "version": "3.10.7"
    }
  },
  "nbformat": 4,
  "nbformat_minor": 0
}
